{
 "cells": [
  {
   "cell_type": "code",
   "execution_count": null,
   "id": "600b7b45-33f8-44d6-bb46-8fdb89915d04",
   "metadata": {},
   "outputs": [],
   "source": [
    "import numpy as np\n",
    "from matplotlib import pyplot as plt\n",
    "def function_input():\n",
    "    \n",
    "    func_input = input(\"Enter your formula here: \")\n",
    "    return lambda x: eval(func_input)\n",
    "\n",
    "def Numerical_Point_Derivative():\n",
    "    \n",
    "    func = function_input()\n",
    "    a = float(input(\"Please enter the point at which you wish to calculate the derivative: \"))\n",
    "    h = 0.00002\n",
    "    \n",
    "    '''I selected the central difference formula as it provided a more accurate estimate of the derivative in Week 3- the second formula\n",
    "    provides a fairly good estimate and is simpler to calculate, but does not provide the same degree of accuracy.'''\n",
    "    q = (func(a + h) - func(a - h)) / (2 * h) \n",
    "    \n",
    "    window = int(input(\"Select the window for viewing a on the graph: \"))\n",
    "    x_vals = np.linspace(a - window, a + window)\n",
    "    y_vals = func(x_vals)\n",
    "    \n",
    "    tangent_y = func(a) + (q * (x_vals - a))\n",
    "    \n",
    "    print(f\"The derivative at point {a} is: {q}\")\n",
    "    \n",
    "    plt.plot(x_vals, y_vals, label= \"Function\")\n",
    "    plt.plot(x_vals, tangent_y, label= \"Tangent\")\n",
    "    \n",
    "    plt.title(\"Graph of Function with Tangent Line\")\n",
    "    plt.xlabel(\"x\")\n",
    "    plt.ylabel(\"f(x)\")\n",
    "    plt.legend()\n",
    "    plt.grid(True)\n",
    "    plt.show()\n",
    "\n",
    "Numerical_Point_Derivative()   "
   ]
  }
 ],
 "metadata": {
  "kernelspec": {
   "display_name": "Python 3 (ipykernel)",
   "language": "python",
   "name": "python3"
  },
  "language_info": {
   "codemirror_mode": {
    "name": "ipython",
    "version": 3
   },
   "file_extension": ".py",
   "mimetype": "text/x-python",
   "name": "python",
   "nbconvert_exporter": "python",
   "pygments_lexer": "ipython3",
   "version": "3.10.8"
  }
 },
 "nbformat": 4,
 "nbformat_minor": 5
}
