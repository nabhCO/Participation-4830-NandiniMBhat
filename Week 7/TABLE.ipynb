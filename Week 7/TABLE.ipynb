{
 "cells": [
  {
   "cell_type": "code",
   "execution_count": null,
   "id": "df2c9055-19bf-4e8f-b1e0-6115a76aa292",
   "metadata": {},
   "outputs": [],
   "source": [
    "import numpy as np\n",
    "def function_input():\n",
    "    '''helper function for TABLE, allowing user to input the differential equation f(t) for the\n",
    "    TABLE function. formula must be entered in terms of t, and any inbuilt functions used should be from the numpy library\n",
    "    e.g. np.cos(t**2)'''\n",
    "    \n",
    "    func_input = input(\"Enter your formula here: \")\n",
    "    return lambda t: eval(func_input) \n",
    "\n",
    "def TABLE(t_initial, t_final, steps):\n",
    "'''TABLE solves differential equations where the rate of change of y does not require a starting value for y (equations of the form\n",
    "   dy/dt = f(t)). this means that that the derivative of a function y(t) is another function f(t). the change in y at each time step (delta\t    _y) is calculated by multipying the user-entered f(t) with the constant change in time (delta_t), during each iteration of a for loop that \n",
    "goes over a set array of time values. values of delta_y are accumulated in the variable total_val at each instance. the current time value, \n",
    "delta_y, and total_val are printed out after each iteration. delta_y and total_val are rounded to 4 decimal points.\n",
    "parameters: starting time, ending time, and number of steps between the starting and ending time (used to calculate \n",
    "step size delta_t , as well as create a numpy array of time values with step size delta_t)'''\n",
    "    \n",
    "    total_val = 0\n",
    "    func = function_input()  #user enters equation for f(t) in terms of t\n",
    "    \n",
    "    delta_t = (t_final - t_initial) / steps\n",
    "    t_vals = np.arange(t_initial, t_final, delta_t)\n",
    "    \n",
    "    for t in t_vals:\n",
    "        \n",
    "        delta_y = func(t) * delta_t\n",
    "        total_val += delta_y\n",
    "        \n",
    "        print(f\"Time: {t}, Delta y: {round(delta_y, 4)}, Accumulation: {round(total_val, 4)}\")"
   ]
  }
 ],
 "metadata": {
  "kernelspec": {
   "display_name": "Python 3 (ipykernel)",
   "language": "python",
   "name": "python3"
  },
  "language_info": {
   "codemirror_mode": {
    "name": "ipython",
    "version": 3
   },
   "file_extension": ".py",
   "mimetype": "text/x-python",
   "name": "python",
   "nbconvert_exporter": "python",
   "pygments_lexer": "ipython3",
   "version": "3.10.8"
  }
 },
 "nbformat": 4,
 "nbformat_minor": 5
}
