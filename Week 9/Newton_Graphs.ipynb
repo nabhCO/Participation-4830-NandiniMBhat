{
 "cells": [
  {
   "cell_type": "code",
   "execution_count": null,
   "id": "5506b195-5432-441c-8e71-88911352e99c",
   "metadata": {},
   "outputs": [],
   "source": [
    "from matplotlib import pyplot as plt\n",
    "import numpy as np\n",
    "\n",
    "def func(x):\n",
    "    return (x**2/4)+(x/4)-5\n",
    "\n",
    "def func_prime(x): \n",
    "    return (x/2)+(1/4)   #derivative calculated by hand and hard-coded in\n",
    "\n",
    "def Newton_Graph(start):\n",
    "\n",
    "    steps = 8\n",
    "    x = start\n",
    "    window = 10          #window for viewing function- taken from Week 4 numerical derivative activity\n",
    "    \n",
    "    x_vals = np.linspace(x - window, x + window, 100)\n",
    "    y_vals = func(x_vals)\n",
    "    \n",
    "    for n in range(0, steps):\n",
    "        \n",
    "        f = func(x)\n",
    "        f_prime = func_prime(x)\n",
    "\n",
    "        tangent_y = func(x) + (f_prime * (x_vals - x))\n",
    "        \n",
    "        plt.plot(x_vals, y_vals, label = \"Function\")\n",
    "        plt.axhline(0, color = \"black\", lw = 1)\n",
    "        plt.axvline(0, color = \"black\", lw = 1)\n",
    "        \n",
    "        point = plt.scatter(x, f, color = \"green\", label = f\"({x:.3f},{f:.3f})\") \n",
    "        plt.plot(x_vals, tangent_y, label=f\"Tangent at x={x:.3f}\") \n",
    "        \n",
    "        x = x - (f/f_prime)\n",
    "        \n",
    "        plt.title(\"Newton's Method for Finding a Root\")\n",
    "        plt.xlabel(\"x\")\n",
    "        plt.ylabel(\"f(x)\")\n",
    "        plt.legend()\n",
    "        plt.grid(True)\n",
    "        plt.show()"
   ]
  }
 ],
 "metadata": {
  "kernelspec": {
   "display_name": "Python 3 (ipykernel)",
   "language": "python",
   "name": "python3"
  },
  "language_info": {
   "codemirror_mode": {
    "name": "ipython",
    "version": 3
   },
   "file_extension": ".py",
   "mimetype": "text/x-python",
   "name": "python",
   "nbconvert_exporter": "python",
   "pygments_lexer": "ipython3",
   "version": "3.10.8"
  }
 },
 "nbformat": 4,
 "nbformat_minor": 5
}
