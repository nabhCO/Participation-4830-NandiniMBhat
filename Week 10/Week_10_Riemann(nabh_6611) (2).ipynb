{
 "cells": [
  {
   "cell_type": "markdown",
   "id": "12462d98-2c5e-4eb7-b8c4-bc4fd665821f",
   "metadata": {},
   "source": [
    "## Week 10- Riemann Sums\n",
    "### Nandini Mahesh Bhat (nabh6611)"
   ]
  },
  {
   "cell_type": "markdown",
   "id": "bcfe6277-4ade-4acd-a50d-04858fec990d",
   "metadata": {},
   "source": [
    "### Roadmap"
   ]
  },
  {
   "cell_type": "markdown",
   "id": "7cf5a496-c715-4179-8989-55f71c9a6025",
   "metadata": {},
   "source": [
    "I have completed the Activities in order. Activities 1, 2, and 4 require user input, including input for the selected function- to make it easier to test these out quickly, I have commented a sample function next to the function call that can be copy pasted into the input box. For the exercises in Activity 3, I have hard coded the various subintervals and functions required for each question as I figured it might be tedious for the user to repeatedly provide input for each one. Therefore, no input is required for the exercises."
   ]
  },
  {
   "cell_type": "code",
   "execution_count": 1,
   "id": "998e8e2a-6bd2-49be-aba4-6ad3a92f66cc",
   "metadata": {},
   "outputs": [],
   "source": [
    "import numpy as np\n",
    "from matplotlib import pyplot as plt"
   ]
  },
  {
   "cell_type": "code",
   "execution_count": 2,
   "id": "8554914c-2cca-4ead-b615-1273dd618fc5",
   "metadata": {},
   "outputs": [],
   "source": [
    "def function_input():  #for user to enter function- used across multiple Activities\n",
    "    \n",
    "    func_input = input(\"Enter your formula here, in terms of x: \")\n",
    "    return lambda x: eval(func_input)"
   ]
  },
  {
   "cell_type": "markdown",
   "id": "c714f8fb-7421-4132-a5bf-9e2d563b8578",
   "metadata": {},
   "source": [
    "### Activity 1: Coding RIEMANN"
   ]
  },
  {
   "cell_type": "markdown",
   "id": "3d777aa9-627c-49f0-902c-81e706f73040",
   "metadata": {},
   "source": [
    "I made three separate functions for this question- one for evaluating the user's function input, one for calculating y values based on sum type (right, left, midpoint), and a main RIEMANN function that calls both of these to tie everything together. The main function has start and stop values as its parameters. The user can select which method to use by entering \"r\", \"l\", or \"m\", and whether they want graphics displayed along with the calculations (bars with sampling points marked based on method). They can then select the step size (also the number of bars, if applicable) and enter the function that Riemann sums will be calculated for."
   ]
  },
  {
   "cell_type": "code",
   "execution_count": 3,
   "id": "8ff5f4a3-52a8-4b08-b4cb-9ae8be4d3611",
   "metadata": {},
   "outputs": [],
   "source": [
    "def sum_type(start, stop, delta_x, func, sumtype):   #select sum type (right, left, midpoint)\n",
    "    \n",
    "    points_y = []\n",
    "    points_x = []\n",
    "    \n",
    "    if sumtype == \"r\":\n",
    "        for i in np.arange(start + delta_x, stop + delta_x, delta_x):\n",
    "            points_y.append(func(i))\n",
    "            points_x.append(i)\n",
    "            \n",
    "    elif sumtype == \"l\":\n",
    "        for i in np.arange(start, stop, delta_x):\n",
    "            points_y.append(func(i))\n",
    "            points_x.append(i)\n",
    "            \n",
    "    else:\n",
    "        start_val = 0\n",
    "        end_val = 0\n",
    "        for i in np.arange(start, stop, delta_x):\n",
    "                start_val = i\n",
    "                end_val = i + delta_x\n",
    "                midpoint = (start_val + end_val) / 2\n",
    "                points_y.append(func(midpoint))\n",
    "                points_x.append(midpoint)\n",
    "                \n",
    "    return points_x, points_y     \n",
    "\n",
    "\n",
    "def RIEMANN(start, stop):   #main function, user can select sum type, toggle graphics, select step size (number of bars), and function\n",
    "    \n",
    "    sumtype = input(\"Choose sum type- enter r for right, l for left, m for midpoint: \")\n",
    "    toggle_graphics = int(input(\"Enter 1 for graphics and calculations, and 0 for just calculations with no graphics: \"))\n",
    "    num_bars = int(input(\"Enter the number of bars your graph should display (or step size, if not using graphics): \"))\n",
    "    \n",
    "    delta_x = (stop - start) / num_bars\n",
    "    func = function_input()\n",
    "    \n",
    "    time_steps = np.arange(start, stop, delta_x)              #time steps for graphing\n",
    "    points_x, points_y = sum_type(start, stop, delta_x, func, sumtype)  #sampling points\n",
    "    \n",
    "    accumulation = 0\n",
    "    x = start\n",
    "    \n",
    "    for point in points_y:\n",
    "        \n",
    "        delta_S = point * delta_x\n",
    "        accumulation += delta_S\n",
    "        \n",
    "        print(f\"Current x: {x} // Delta S: {delta_S} // Accumulation: {accumulation}\")\n",
    "        \n",
    "        x += delta_x\n",
    "        \n",
    "    print(f\"Final accumulation value: {accumulation}\")   \n",
    "    \n",
    "    #if user has chosen to include graphics, bars for selected sum type and function will be graphed\n",
    "    if toggle_graphics:\n",
    "        \n",
    "        if sumtype == \"r\":\n",
    "            plt.bar(time_steps, points_y, label=\"Right Hand Sums\", width=delta_x, color='green', edgecolor=\"black\", alpha=0.5, align=\"edge\")\n",
    "            plt.scatter(points_x, points_y, label=\"Sampling Points\")\n",
    "        \n",
    "        elif sumtype == \"l\":\n",
    "            plt.bar(time_steps, points_y, label=\"Left Hand Sums\", width=delta_x, color='green', edgecolor=\"black\", alpha=0.5, align=\"edge\")\n",
    "            plt.scatter(points_x, points_y, label=\"Sampling Points\")\n",
    "            \n",
    "        else:\n",
    "            plt.bar(time_steps, points_y, label=\"Midpoint Sums\", width=delta_x, color='green', edgecolor=\"black\", alpha=0.5, align=\"edge\")\n",
    "            plt.scatter(points_x, points_y, label=\"Sampling Points\")\n",
    "            \n",
    "        plt.title(\"Riemann Sums\")\n",
    "        plt.xlabel(\"x\")\n",
    "        plt.ylabel(\"f(x)\")\n",
    "        plt.legend()\n",
    "        plt.show()\n"
   ]
  },
  {
   "cell_type": "code",
   "execution_count": 4,
   "id": "bc1236ab-265e-4e75-8a39-9def6681cd22",
   "metadata": {},
   "outputs": [
    {
     "name": "stdin",
     "output_type": "stream",
     "text": [
      "Choose sum type- enter r for right, l for left, m for midpoint:  l\n",
      "Enter 1 for graphics and calculations, and 0 for just calculations with no graphics:  1\n",
      "Enter the number of bars your graph should display (or step size, if not using graphics):  4\n",
      "Enter your formula here, in terms of x:  np.sqrt(1+x**3)\n"
     ]
    },
    {
     "name": "stdout",
     "output_type": "stream",
     "text": [
      "Current x: 1 // Delta S: 0.7071067811865476 // Accumulation: 0.7071067811865476\n",
      "Current x: 1.5 // Delta S: 1.0458250331675945 // Accumulation: 1.7529318143541421\n",
      "Current x: 2.0 // Delta S: 1.5 // Accumulation: 3.252931814354142\n",
      "Current x: 2.5 // Delta S: 2.038688303787511 // Accumulation: 5.291620118141653\n",
      "Final accumulation value: 5.291620118141653\n"
     ]
    },
    {
     "data": {
      "image/png": "[encoded data removed]",
      "text/plain": [
       "<Figure size 640x480 with 1 Axes>"
      ]
     },
     "metadata": {},
     "output_type": "display_data"
    }
   ],
   "source": [
    "RIEMANN(1, 3) #np.sqrt(1+x**3)"
   ]
  },
  {
   "cell_type": "markdown",
   "id": "95c82704-b2b9-4e03-ad8b-956b71108bba",
   "metadata": {},
   "source": [
    "### Activity 2: Riemann Hero Graphic!"
   ]
  },
  {
   "cell_type": "markdown",
   "id": "fd040b6e-8547-47b2-8a54-513608f54029",
   "metadata": {},
   "source": [
    "I modified the initial RIEMANN function to calculate bar heights for all three sum types, instead of just one. The bars for each method are plotted on the same axes."
   ]
  },
  {
   "cell_type": "code",
   "execution_count": 5,
   "id": "a2c43bf3-e05a-4906-94d9-9a38a0b3e1bf",
   "metadata": {},
   "outputs": [],
   "source": [
    "def sum_type_2(start, stop, delta_x, func):   #calculates all sum types\n",
    "    \n",
    "    points_y_r = []\n",
    "    points_y_l = []\n",
    "    points_y_m = []\n",
    "    \n",
    "    for i in np.arange(start + delta_x, stop + delta_x, delta_x):\n",
    "        points_y_r.append(func(i))\n",
    "            \n",
    "    for i in np.arange(start, stop, delta_x):\n",
    "        points_y_l.append(func(i))\n",
    "            \n",
    "    start_val = 0\n",
    "    end_val = 0\n",
    "    for i in np.arange(start, stop, delta_x):\n",
    "            start_val = i\n",
    "            end_val = i + delta_x\n",
    "            midpoint = (start_val + end_val) / 2\n",
    "            points_y_m.append(func(midpoint))\n",
    "                \n",
    "    return points_y_r, points_y_l, points_y_m   \n",
    "\n",
    "def RIEMANN_GRAPHIC(start, stop):   \n",
    "    \n",
    "    num_bars = int(input(\"Enter the number of bars your graph should display (or step size, if not using graphics): \"))\n",
    "    \n",
    "    delta_x = (stop - start) / num_bars\n",
    "    func = function_input()\n",
    "    \n",
    "    time_steps = np.arange(start, stop, delta_x)              \n",
    "    points_y_r, points_y_l, points_y_m = sum_type_2(start, stop, delta_x, func)  \n",
    "    \n",
    "    #graph bars for all three sum types\n",
    "    plt.bar(time_steps, points_y_r, label=\"Right Hand Sums\", width=delta_x, color='orange', edgecolor=\"black\", alpha=0.5, align=\"edge\")\n",
    "    plt.bar(time_steps, points_y_l, label=\"Left Hand Sums\", width=delta_x, color='blue', edgecolor=\"black\", alpha=0.5, align=\"edge\")\n",
    "    plt.bar(time_steps, points_y_m, label=\"Midpoint Sums\", width=delta_x, color='green', edgecolor=\"black\", alpha=0.5, align=\"edge\")\n",
    "    \n",
    "    x_func_line = np.linspace(start, stop, 700)\n",
    "    y_func_line = func(x_func_line)\n",
    "    plt.plot(x_func_line, y_func_line, label=\"Function Line\", color=\"purple\", linewidth= 2)\n",
    "\n",
    "    plt.title(\"Riemann Hero Graphic\")\n",
    "    plt.xlabel(\"x\")\n",
    "    plt.ylabel(\"f(x)\")\n",
    "    plt.legend()\n",
    "    plt.show()\n"
   ]
  },
  {
   "cell_type": "code",
   "execution_count": 6,
   "id": "5acd7a96-6754-4daf-af7f-662ab6dd50ff",
   "metadata": {},
   "outputs": [
    {
     "name": "stdin",
     "output_type": "stream",
     "text": [
      "Enter the number of bars your graph should display (or step size, if not using graphics):  4\n",
      "Enter your formula here, in terms of x:  np.sqrt(1+x**3)\n"
     ]
    },
    {
     "data": {
      "image/png": "[encoded data removed]",
      "text/plain": [
       "<Figure size 640x480 with 1 Axes>"
      ]
     },
     "metadata": {},
     "output_type": "display_data"
    }
   ],
   "source": [
    "RIEMANN_GRAPHIC(1, 3) #np.sqrt(1+x**3)"
   ]
  },
  {
   "cell_type": "markdown",
   "id": "c0bcf324-3dd2-4b7e-af5b-e080fc9d32a6",
   "metadata": {},
   "source": [
    "### Activity 3: Exercises 4-12 with RIEMANN"
   ]
  },
  {
   "cell_type": "code",
   "execution_count": 7,
   "id": "adb6a3ab-663d-411b-96fe-1219a495f2e4",
   "metadata": {},
   "outputs": [],
   "source": [
    "#4a\n",
    "def sum_type(start, stop, delta_x, func, sumtype): \n",
    "    \n",
    "    points_y = []\n",
    "    \n",
    "    if sumtype == \"r\":\n",
    "        for i in np.arange(start + delta_x, stop + delta_x, delta_x):\n",
    "            points_y.append(func(i))\n",
    "            \n",
    "    elif sumtype == \"l\":\n",
    "        for i in np.arange(start, stop, delta_x):\n",
    "            points_y.append(func(i))\n",
    " \n",
    "    else:\n",
    "        start_val = 0\n",
    "        end_val = 0\n",
    "        for i in np.arange(start, stop, delta_x):\n",
    "                start_val = i\n",
    "                end_val = i + delta_x\n",
    "                midpoint = (start_val + end_val) / 2\n",
    "                points_y.append(func(midpoint))\n",
    "                \n",
    "    return points_y     \n",
    "\n",
    "\n",
    "def RIEMANN_EXERCISES(start, stop, sumtype, num_bars, func):  \n",
    "    \n",
    "    for i in num_bars:\n",
    "    \n",
    "        delta_x = (stop - start) / i\n",
    "        time_steps = np.arange(start, stop, delta_x)              \n",
    "        points_y = sum_type(start, stop, delta_x, func, sumtype)  \n",
    "\n",
    "        accumulation = 0\n",
    "        x = start\n",
    "\n",
    "        for point in points_y:   #calculates accumulation value, only outputs final accumulation\n",
    "            \n",
    "            point = float(point)\n",
    "            delta_S = point * delta_x\n",
    "            accumulation += delta_S\n",
    "            x += delta_x\n",
    "\n",
    "        print(f\"Final accumulation value for {i} subintervals: {accumulation}\")"
   ]
  },
  {
   "cell_type": "code",
   "execution_count": 8,
   "id": "bdcb9ce5-902f-415d-8b54-6ec827d6b8b2",
   "metadata": {},
   "outputs": [],
   "source": [
    "def func_2(func):  #specific to these exercises\n",
    "    return lambda x: eval(func)"
   ]
  },
  {
   "cell_type": "markdown",
   "id": "22f2b3d1-62bf-4929-8485-91c91706d06a",
   "metadata": {},
   "source": [
    "### Q4"
   ]
  },
  {
   "cell_type": "code",
   "execution_count": 9,
   "id": "cc29990f-b989-4747-a76f-d49f6576b1bf",
   "metadata": {},
   "outputs": [
    {
     "name": "stdout",
     "output_type": "stream",
     "text": [
      "Final accumulation value for 40 subintervals: 6.133337696563017\n",
      "Final accumulation value for 400 subintervals: 6.220269270650224\n",
      "Final accumulation value for 4000 subintervals: 6.228990096672399\n",
      "Final accumulation value for 40000 subintervals: 6.229862455976842\n"
     ]
    }
   ],
   "source": [
    "num_bars = [40, 400, 4000, 40000] \n",
    "function = \"np.sqrt((1+x**3))\"\n",
    "func = func_2(function)\n",
    "\n",
    "RIEMANN_EXERCISES(1, 3, \"l\", num_bars, func)"
   ]
  },
  {
   "cell_type": "markdown",
   "id": "f6f5e52c-2850-494a-a071-5458452270fd",
   "metadata": {},
   "source": [
    "Q4a) Two decimal points in this sequence have stabilized, starting at 400 subintervals (6.22)."
   ]
  },
  {
   "cell_type": "markdown",
   "id": "50a38c97-0050-4886-b04e-618df900af3d",
   "metadata": {},
   "source": [
    "b) The limit of these left endpoint Riemann sums appears to be approaching 6.2299."
   ]
  },
  {
   "cell_type": "code",
   "execution_count": 10,
   "id": "ce237b5f-e090-4ae2-b749-69c910524da7",
   "metadata": {},
   "outputs": [
    {
     "name": "stdout",
     "output_type": "stream",
     "text": [
      "Final accumulation value for 40 subintervals: 45.15840131308283\n",
      "Final accumulation value for 400 subintervals: 45.75374480731908\n",
      "Final accumulation value for 4000 subintervals: 45.813383966325496\n",
      "Final accumulation value for 40000 subintervals: 45.81934893039781\n",
      "Final accumulation value for 400000 subintervals: 45.81994543740511\n"
     ]
    }
   ],
   "source": [
    "num_bars = [40, 400, 4000, 40000, 400000]\n",
    "RIEMANN_EXERCISES(3, 7, \"l\", num_bars, func)"
   ]
  },
  {
   "cell_type": "markdown",
   "id": "9dc56819-ec50-4bb7-a820-580b8a370706",
   "metadata": {},
   "source": [
    "c) The limit being approached by these left endpoint Riemann sums is 45.820."
   ]
  },
  {
   "cell_type": "code",
   "execution_count": 11,
   "id": "0a3dd1f5-f32f-4fae-9b43-90490d99c33a",
   "metadata": {},
   "outputs": [
    {
     "name": "stdout",
     "output_type": "stream",
     "text": [
      "Final accumulation value for 40 subintervals: 50.77043536517244\n",
      "Final accumulation value for 400 subintervals: 51.92152784413173\n",
      "Final accumulation value for 4000 subintervals: 52.03712188035586\n",
      "Final accumulation value for 40000 subintervals: 52.04868613248554\n",
      "Final accumulation value for 400000 subintervals: 52.04984260652967\n"
     ]
    }
   ],
   "source": [
    "num_bars = [40, 400, 4000, 40000, 400000]\n",
    "RIEMANN_EXERCISES(1, 7, \"l\", num_bars, func)"
   ]
  },
  {
   "cell_type": "markdown",
   "id": "9d01dc9c-5560-4d88-909a-e9cbb23849bf",
   "metadata": {},
   "source": [
    "d) The limit being approached by these left endpoint Riemann sums appears to be reaching 52.050. The intervals in parts b and c combine to form the interval in d- likewise, the sum of their limits (6.2299 + 45.820) is the value of the limit in part d (52.0499, which rounds to 52.050)."
   ]
  },
  {
   "cell_type": "markdown",
   "id": "f8b3032a-45a3-4aed-bbec-e3c4618318dc",
   "metadata": {},
   "source": [
    "### Q5"
   ]
  },
  {
   "cell_type": "markdown",
   "id": "05f2a667-7e8c-4948-80fc-30fa0003b719",
   "metadata": {},
   "source": [
    "Q5) The function contains a feature for calculating midpoint sums- the user must enter \"m\" when asked which sum type they would like to use. When the sum_type function is called, it checks what letter the user has entered (an \"l\", \"m\", or \"r\") and calculates the heights of the bars (y values) accordingly. If the user has entered an \"m\", the function finds the midpoint of each interval. This is the x value to be substituted in the user-entered function, which gives us the y value at the midpoint."
   ]
  },
  {
   "cell_type": "markdown",
   "id": "43b6df4e-ddf3-4046-82ff-074681572153",
   "metadata": {},
   "source": [
    "### Q6"
   ]
  },
  {
   "cell_type": "code",
   "execution_count": 12,
   "id": "014a7dc3-c479-4f09-9552-08263f0ca361",
   "metadata": {},
   "outputs": [
    {
     "name": "stdout",
     "output_type": "stream",
     "text": [
      "Final accumulation value for 40 subintervals: 6.22980412273429\n",
      "Final accumulation value for 400 subintervals: 6.229957835175769\n",
      "Final accumulation value for 4000 subintervals: 6.229959372356092\n",
      "Final accumulation value for 40000 subintervals: 6.229959387737616\n"
     ]
    }
   ],
   "source": [
    "num_bars = [40, 400, 4000, 40000]\n",
    "RIEMANN_EXERCISES(1, 3, \"m\", num_bars, func)"
   ]
  },
  {
   "cell_type": "markdown",
   "id": "f19430d4-5877-45d9-9311-20e8011d07d0",
   "metadata": {},
   "source": [
    "Q6a) Six decimal points in this sequence have stabilized, starting from 4000 subintervals (6.229959)."
   ]
  },
  {
   "cell_type": "markdown",
   "id": "b4f18939-e15a-45e1-9ec3-76ef70b14136",
   "metadata": {},
   "source": [
    "b) Around 400 subintervals are required to stabilize the value to 4 decimal points (6.2299). This is the same limiting value found when calculating Riemann sums over the same interval, using the left endpoint method."
   ]
  },
  {
   "cell_type": "markdown",
   "id": "ae4f18c1-64d3-4c81-8ce5-5d3ff1fb2967",
   "metadata": {},
   "source": [
    "c) It seems as though using midpoint sums is more efficient than using left endpoint sums for this specific function. Using midpoint sums required using only 2 steps (40 and 400) to reach the limiting value, while it took 4 steps (40, 400, 4000, and 40000) to approach the limiting value using the left endpoint method, in addition to rounding it off manually."
   ]
  },
  {
   "cell_type": "markdown",
   "id": "693ae5ef-a6a2-4fd5-a99e-75606f565474",
   "metadata": {},
   "source": [
    "### Q7"
   ]
  },
  {
   "cell_type": "code",
   "execution_count": 13,
   "id": "61ea8783-6dbe-4a0f-982b-a7c59f24e630",
   "metadata": {},
   "outputs": [
    {
     "name": "stdout",
     "output_type": "stream",
     "text": [
      "Final accumulation value for 40 subintervals: 6.327202149550822\n",
      "Final accumulation value for 400 subintervals: 6.239655715949005\n",
      "Final accumulation value for 4000 subintervals: 6.230928741202276\n",
      "Final accumulation value for 40000 subintervals: 6.2300563204298305\n"
     ]
    }
   ],
   "source": [
    "num_bars = [40, 400, 4000, 40000]\n",
    "RIEMANN_EXERCISES(1, 3, \"r\", num_bars, func)"
   ]
  },
  {
   "cell_type": "markdown",
   "id": "7546bdcd-7fbe-4024-ab8d-97ac2c82f05e",
   "metadata": {},
   "source": [
    "Q7a) The function contains a feature for calculating right endpoint sums- the user must enter \"r\" when asked which sum type they would like to use. It is similar to the way the midpoint sums are calculated, but instead of taking the midpoints of intervals, the values at rightmost end of each interval are taken. These are once again the x values used to calculate the y values at these points.\n",
    "\n",
    "b) With right endpoint Riemann sums, the resulting values have stabilized up to 3 decimal places (6.230 at 4000 subintervals). It is slightly more efficient than left endpoint sums when it comes to this specific function, as it stabilized to more decimal points quicker (in the left Riemann sums, the resulting value had not yet stabilized to 3 decimal points at 4000 subintervals)."
   ]
  },
  {
   "cell_type": "markdown",
   "id": "544c7223-23d4-4ea4-9e64-ba38a02732c1",
   "metadata": {},
   "source": [
    "### Q8"
   ]
  },
  {
   "cell_type": "code",
   "execution_count": 14,
   "id": "af2096d7-bc3a-46cf-8484-ad4ff54cce97",
   "metadata": {},
   "outputs": [
    {
     "name": "stdout",
     "output_type": "stream",
     "text": [
      "Final accumulation value for 20 subintervals: 1.5522591631241596\n",
      "Final accumulation value for 50 subintervals: 1.5660981554514968\n"
     ]
    }
   ],
   "source": [
    "num_bars = [20, 50]\n",
    "function = \"np.sqrt((1-x**2))\"\n",
    "func = func_2(function)\n",
    "RIEMANN_EXERCISES(-1, 1, \"l\", num_bars, func)"
   ]
  },
  {
   "cell_type": "markdown",
   "id": "09d38152-f9d2-4f1d-8d68-80e976293bbf",
   "metadata": {},
   "source": [
    "Q8) The values obtained are the same as the estimates given, with the estimates being rounded."
   ]
  },
  {
   "cell_type": "markdown",
   "id": "7bada7a0-58fe-4b27-ad0b-006a77faa4f4",
   "metadata": {},
   "source": [
    "### Q9"
   ]
  },
  {
   "cell_type": "code",
   "execution_count": 15,
   "id": "613fb895-681c-42f5-b1f5-91af74578c84",
   "metadata": {},
   "outputs": [
    {
     "name": "stdout",
     "output_type": "stream",
     "text": [
      "Final accumulation value for 4 subintervals: 3.819943643179836\n",
      "Final accumulation value for 20 subintervals: 3.820197789027712\n"
     ]
    }
   ],
   "source": [
    "num_bars = [4, 20]\n",
    "function = \"np.sqrt(1+np.cos(x)**2)\"\n",
    "func = func_2(function)\n",
    "RIEMANN_EXERCISES(0, np.pi, \"l\", num_bars, func)"
   ]
  },
  {
   "cell_type": "markdown",
   "id": "e21343d2-2849-4171-9950-2b91bb1cf362",
   "metadata": {},
   "source": [
    "Q9a) The values obtained are the same as the estimates given (with some difference in rounding)."
   ]
  },
  {
   "cell_type": "code",
   "execution_count": 16,
   "id": "89b52386-0468-4924-9f8c-68e5429b9e78",
   "metadata": {},
   "outputs": [
    {
     "name": "stdout",
     "output_type": "stream",
     "text": [
      "Final accumulation value for 40 subintervals: 3.8201977890277132\n",
      "Final accumulation value for 400 subintervals: 3.820197789027713\n",
      "Final accumulation value for 4000 subintervals: 3.8201977890277163\n",
      "Final accumulation value for 40000 subintervals: 3.8201977890277052\n"
     ]
    }
   ],
   "source": [
    "num_bars = [40, 400, 4000, 40000]\n",
    "RIEMANN_EXERCISES(0, np.pi, \"l\", num_bars, func)"
   ]
  },
  {
   "cell_type": "markdown",
   "id": "dfb4c659-c7fc-46ff-85eb-257e69df5f18",
   "metadata": {},
   "source": [
    "b) The limiting value of the left endpoint Riemann sums becomes 3.82019778903 (to 11 decimal places) as the number of intervals increases."
   ]
  },
  {
   "cell_type": "markdown",
   "id": "5ec43c46-0c13-4800-91a5-a267045b5f61",
   "metadata": {},
   "source": [
    "### Q10"
   ]
  },
  {
   "cell_type": "markdown",
   "id": "a43b6a85-b1bf-48b7-99ed-8542447412a3",
   "metadata": {},
   "source": [
    "Q10) Results for this question are below:"
   ]
  },
  {
   "cell_type": "code",
   "execution_count": 17,
   "id": "cbd11c2a-8425-4196-8c28-ecabbfc3a16b",
   "metadata": {},
   "outputs": [
    {
     "name": "stdout",
     "output_type": "stream",
     "text": [
      "Final accumulation value for 100 subintervals: 0.6339209745734846\n",
      "Final accumulation value for 1000 subintervals: 0.5983787174632481\n",
      "Final accumulation value for 10000 subintervals: 0.5948518901035781\n"
     ]
    }
   ],
   "source": [
    "num_bars = [100, 1000, 10000]\n",
    "function = \"np.cos(x**2)\"\n",
    "func = func_2(function)\n",
    "RIEMANN_EXERCISES(0, 4, \"l\", num_bars, func)"
   ]
  },
  {
   "cell_type": "markdown",
   "id": "b19a28b6-55dc-4321-96c5-792d90e52cb8",
   "metadata": {},
   "source": [
    "### Q11"
   ]
  },
  {
   "cell_type": "code",
   "execution_count": 18,
   "id": "d6e7d952-d462-48b4-b1ad-efc49207a975",
   "metadata": {},
   "outputs": [
    {
     "name": "stdout",
     "output_type": "stream",
     "text": [
      "Final accumulation value for 10 subintervals: -0.10320774749944361\n",
      "Final accumulation value for 100 subintervals: -0.10404981921880206\n",
      "Final accumulation value for 1000 subintervals: -0.10412210833479739\n"
     ]
    }
   ],
   "source": [
    "num_bars = [10, 100, 1000]\n",
    "function = \"(np.cos(x))/(1+x**2)\"\n",
    "func = func_2(function)\n",
    "RIEMANN_EXERCISES(2, 3, \"l\", num_bars, func)"
   ]
  },
  {
   "cell_type": "code",
   "execution_count": 19,
   "id": "a9985bd8-58c4-408a-a064-d6853f743ab0",
   "metadata": {},
   "outputs": [
    {
     "data": {
      "image/png": "[encoded data removed]",
      "text/plain": [
       "<Figure size 640x480 with 1 Axes>"
      ]
     },
     "metadata": {},
     "output_type": "display_data"
    }
   ],
   "source": [
    "def draw_func(start, stop, step, func):\n",
    "    \n",
    "    x_func_line = np.linspace(start, stop, step)\n",
    "    y_func_line = func(x_func_line)\n",
    "    plt.plot(x_func_line, y_func_line, label=\"Function Line\", linewidth= 2)\n",
    "    \n",
    "    plt.title(\"Sketch for Q11\")\n",
    "    plt.xlabel(\"x\")\n",
    "    plt.ylabel(\"f(x)\")\n",
    "    plt.grid(True)\n",
    "    plt.legend()\n",
    "    plt.show()\n",
    "    \n",
    "draw_func(2, 3, 1000, func)"
   ]
  },
  {
   "cell_type": "markdown",
   "id": "21b02eba-dce0-4e42-9835-eefacc41866f",
   "metadata": {},
   "source": [
    "Q11) From the sketch of the function, we can tell that its y values are all negative (at least over this interval). Therefore, calculating Riemann sums for these values would result in negative values (as multiplying a negative number by the positive delta x would result in another negative number- this would also mean that the resulting values would all be subtracted from each other, rather than added)."
   ]
  },
  {
   "cell_type": "markdown",
   "id": "13cd848a-4b9a-482b-a371-02080dad0157",
   "metadata": {},
   "source": [
    "### Q12"
   ]
  },
  {
   "cell_type": "code",
   "execution_count": 20,
   "id": "3a33306f-dfc9-4d6f-98f1-1e8a3e3680a7",
   "metadata": {},
   "outputs": [
    {
     "name": "stdout",
     "output_type": "stream",
     "text": [
      "Final accumulation value for 10 subintervals: -7.549516567451064e-15\n",
      "Final accumulation value for 100 subintervals: 3.064215547965432e-14\n",
      "Final accumulation value for 1000 subintervals: 2.9427849046470556e-14\n"
     ]
    }
   ],
   "source": [
    "num_bars = [10, 100, 1000]\n",
    "function = \"x**3\"\n",
    "func = func_2(function)\n",
    "RIEMANN_EXERCISES(-2, 2, \"m\", num_bars, func)"
   ]
  },
  {
   "cell_type": "code",
   "execution_count": 21,
   "id": "42dcf84a-f30b-4276-8635-c04b0a1c1464",
   "metadata": {},
   "outputs": [
    {
     "data": {
      "image/png": "[encoded data removed]",
      "text/plain": [
       "<Figure size 640x480 with 1 Axes>"
      ]
     },
     "metadata": {},
     "output_type": "display_data"
    }
   ],
   "source": [
    "draw_func(-2, 2, 1000, func)"
   ]
  },
  {
   "cell_type": "markdown",
   "id": "cc709abc-cd90-431d-82c1-5640afe1cc8e",
   "metadata": {},
   "source": [
    "Q12a) From the results, we can tell that the Riemann sums are 0 (with a nonzero digit in the 15th decimal place for 10 subintervals, and a nonzero digit in the 14th decimal place for 100 and 1000 subintervals). After drawing the sketch of the graph, it seems as though values calculated for each height in the negative region of the graph will eventually be brought back to 0 when the final sum is calculated- this is because of values calculated in the positive region of the graph. For example, when x = -1, y = -1^3, which is -1. When x = 1, y = 1^3, which is 1. As -1 + 1 = 0, there is no increase or decrease in the sum, and this happens for all the other calculated y values as well."
   ]
  },
  {
   "cell_type": "code",
   "execution_count": 22,
   "id": "b33b0942-8bfa-40ac-bace-e80edec7bd20",
   "metadata": {},
   "outputs": [
    {
     "name": "stdout",
     "output_type": "stream",
     "text": [
      "Final accumulation value for 10 subintervals: -3.200000000000006\n",
      "Final accumulation value for 100 subintervals: -0.319999999999975\n",
      "Final accumulation value for 1000 subintervals: -0.03199999999997415\n"
     ]
    }
   ],
   "source": [
    "RIEMANN_EXERCISES(-2, 2, \"l\", num_bars, func)"
   ]
  },
  {
   "cell_type": "markdown",
   "id": "f27cc220-cb57-49ff-80c7-835abb87626e",
   "metadata": {},
   "source": [
    "b) When I use left endpoint sums, the resulting value for 10 subintervals is not 0, and the resulting values for 100 and 1000 subintervals are close to 0, but not as close as when using midpoint sums. This could be because left endpoint sums use only the left end of each interval- for example, x = -2 on the graph above. Because only left endpoints are used, the point x = 2 is not used (as it is a right endpoint). This leaves one value that is not brought back to zero, which brings the final Riemann sum below/above 0. With midpoint sums, you will get an opposing value for each y value. Something similar happens if you try this with right endpoint Riemann sums, as one value on the right is not calculated:"
   ]
  },
  {
   "cell_type": "code",
   "execution_count": 23,
   "id": "575ca9f4-3cb7-4282-a5f1-da36c572e68c",
   "metadata": {},
   "outputs": [
    {
     "name": "stdout",
     "output_type": "stream",
     "text": [
      "Final accumulation value for 10 subintervals: 3.1999999999999904\n",
      "Final accumulation value for 100 subintervals: 0.3200000000000288\n",
      "Final accumulation value for 1000 subintervals: 0.03200000000002643\n"
     ]
    }
   ],
   "source": [
    "RIEMANN_EXERCISES(-2, 2, \"r\", num_bars, func)"
   ]
  },
  {
   "cell_type": "markdown",
   "id": "2d05cf95-b24a-4126-a9aa-78f12b81eeae",
   "metadata": {},
   "source": [
    "As can be seen, the results for the right endpoint sums are similar to the results for the left endpoint sums (but leaning positive rather than negative)."
   ]
  },
  {
   "cell_type": "markdown",
   "id": "7d0fbb61-1f78-40c4-b273-d535214e7402",
   "metadata": {},
   "source": [
    "### Summary"
   ]
  },
  {
   "cell_type": "markdown",
   "id": "61fa4a9d-859c-4b5f-a4d6-576ccb4f12ec",
   "metadata": {},
   "source": [
    "From the exercises, it seems as though midpoint sums are the most efficient method for calculating Riemann sums- however, the process of calculating them will take much longer by hand than simply using left or right endpoint sums (even the code written for them was more complex). Left and right Riemann sums are easier to calculate, but seem to be a little higher or lower than the midpoint result depending on the function. For example, in Exercise 12, using midpoint sums gave us an accurate estimate of 0 (with room for floating point errors), given the nature of the function x^3. Using left endpoint sums resulted in values less than 0, while right endpoint sums resulted in values greater than 0. When using only a small number of steps (number of bars), it might be best to use midpoint sums- however, with a very large number of bars the difference between results may not be as significant. In these situations it may be more convenient to use left or right endpoint sums, as they allow us to use their \"readymade\" x values determined by either the start or end of the interval."
   ]
  },
  {
   "cell_type": "markdown",
   "id": "bd9c7ff5-4a76-44ac-90c7-106c2cf68128",
   "metadata": {},
   "source": [
    "### Activity 4: Simpson's Rule"
   ]
  },
  {
   "cell_type": "markdown",
   "id": "aa30da1a-d739-4477-9cb0-c1fdbbbbb793",
   "metadata": {},
   "source": [
    "The code for Riemann Sums with the Simpson's rule requires the sum_type_2 method that was used for the Hero Graphic in Activity 2, as it allows us to calculate y values for each sum type. After obtaining these, final Riemann sums are calculated for each of the three methods. These are then used to find the final Riemann sum using Simpson's Rule, which combines the midpoint and trapezoid method (the latter of which is the average of the left and right midpoint sums)."
   ]
  },
  {
   "cell_type": "code",
   "execution_count": 24,
   "id": "7b3d3b11-4126-4fa8-a842-50b1156d12bf",
   "metadata": {},
   "outputs": [],
   "source": [
    "def sum_type_2(start, stop, delta_x, func):   #calculates all sum types\n",
    "    \n",
    "    points_y_r = []\n",
    "    points_y_l = []\n",
    "    points_y_m = []\n",
    "    \n",
    "    for i in np.arange(start + delta_x, stop + delta_x, delta_x):\n",
    "        points_y_r.append(func(i))\n",
    "            \n",
    "    for i in np.arange(start, stop, delta_x):\n",
    "        points_y_l.append(func(i))\n",
    "            \n",
    "    start_val = 0\n",
    "    end_val = 0\n",
    "    for i in np.arange(start, stop, delta_x):\n",
    "            start_val = i\n",
    "            end_val = i + delta_x\n",
    "            midpoint = (start_val + end_val) / 2\n",
    "            points_y_m.append(func(midpoint))\n",
    "                \n",
    "    return points_y_r, points_y_l, points_y_m   \n",
    "\n",
    "def RIEMANN_SIMPSON(start, stop):  \n",
    "    \n",
    "    num_bars = int(input(\"Enter the number of bars your graph should display (or step size, if not using graphics): \"))\n",
    "    \n",
    "    delta_x = (stop - start) / num_bars\n",
    "    func = function_input()\n",
    "    \n",
    "    time_steps = np.arange(start, stop, delta_x)              \n",
    "    \n",
    "    points_y_r, points_y_l, points_y_m = sum_type_2(start, stop, delta_x, func)  \n",
    "    \n",
    "    accumulation_r = 0\n",
    "    accumulation_l = 0\n",
    "    accumulation_m = 0\n",
    "    \n",
    "    for point in points_y_r:   #sum for right midpoint\n",
    "        \n",
    "        delta_S = point * delta_x\n",
    "        accumulation_r += delta_S  \n",
    "    \n",
    "    for point in points_y_l:   #sum for left midpoint\n",
    "        \n",
    "        delta_S = point * delta_x\n",
    "        accumulation_l += delta_S\n",
    "    \n",
    "    for point in points_y_m:   #sum for midpoint\n",
    "        \n",
    "        delta_S = point * delta_x\n",
    "        accumulation_m += delta_S\n",
    "        \n",
    "    riemann_sum = (1/6) * ((4 * accumulation_m) + accumulation_l + accumulation_r)   #formula for Simpson's Method\n",
    "    print(accumulation_m)\n",
    "    print(f\"Riemann Sum with Simpson's Rule: {riemann_sum}\")\n",
    "    \n",
    "    \n",
    "    "
   ]
  },
  {
   "cell_type": "code",
   "execution_count": 25,
   "id": "bd01f7fd-57f3-469f-9058-dcaa5c433cd1",
   "metadata": {},
   "outputs": [
    {
     "name": "stdin",
     "output_type": "stream",
     "text": [
      "Enter the number of bars your graph should display (or step size, if not using graphics):  4\n",
      "Enter your formula here, in terms of x:  np.sqrt(1+x**3)\n"
     ]
    },
    {
     "name": "stdout",
     "output_type": "stream",
     "text": [
      "6.2144951600826985\n",
      "Riemann Sum with Simpson's Rule: 6.229977567748691\n"
     ]
    }
   ],
   "source": [
    "RIEMANN_SIMPSON(1, 3) #np.sqrt(1+x**3)"
   ]
  },
  {
   "cell_type": "markdown",
   "id": "907e0e87-13e0-4235-a034-8e2e9e8e81f4",
   "metadata": {},
   "source": [
    "Something very interesting I noticed about Simpson's Rule is that it is far more efficient than even midpoint sums. In Exercise 3, when calculating the midpoint Riemann Sum over the interval 1 to 3 (for the function (1+x^3)^0.5) it took 400 subintervals to stabilize the value at 6.2299. With Simpson's Rule, this was done in 4 subintervals. I realized that the method used may not matter all that much with a very large number of intervals, but using techniques such as this one allows you to both save time and make your program more efficient by reducing the number of subintervals you have to use. It would also make calculating by hand a lot easier- performing the calculations with the formula might be slightly more time consuming, but this is negated by the small number of calculations you have to do in the first place. \n",
    "\n",
    "This is because Simpson's rule takes both the midpoint and trapezoid sum methods and combines them in a way that negates the trapezoid method's increased error (which is its main flaw when compared to the midpoint method). As the error of the midpoint method is around half of the trapezoid method's error, multiplying it by 2 removes most of the error. The sum (2 * midpoint sum) + trapezoid sum gives you the integral * 3, so dividing it by 3 will result in the actual integral. The method used to calculate the trapezoid sum is the average of the left and right sums- Therefore, in a way, Simpson's rule allows us to use all the methods we have to obtain an incredibly accurate Riemann sum. This goes to show that while some methods may not be efficient, they can be combined with others to improve efficiency even beyond methods like the midpoint sum."
   ]
  }
 ],
 "metadata": {
  "kernelspec": {
   "display_name": "Python 3 (ipykernel)",
   "language": "python",
   "name": "python3"
  },
  "language_info": {
   "codemirror_mode": {
    "name": "ipython",
    "version": 3
   },
   "file_extension": ".py",
   "mimetype": "text/x-python",
   "name": "python",
   "nbconvert_exporter": "python",
   "pygments_lexer": "ipython3",
   "version": "3.10.8"
  }
 },
 "nbformat": 4,
 "nbformat_minor": 5
}
