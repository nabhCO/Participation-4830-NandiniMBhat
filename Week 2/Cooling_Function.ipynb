{
 "cells": [
  {
   "cell_type": "code",
   "execution_count": 1,
   "id": "c5070ac6-0ca6-4892-9f77-293eee5ff9ab",
   "metadata": {},
   "outputs": [
    {
     "name": "stdout",
     "output_type": "stream",
     "text": [
      "Minutes: 9.73 Temperature: 119.98\n"
     ]
    }
   ],
   "source": [
    "def Temp_model(start_temp, room_temp, k, end_temp):\n",
    "    '''takes in a starting temp, room temp, k value, and ending temp. K is divided by 60 to convert units to \n",
    "    per second. A while loop is then used to calculate the change in temperature, while keeping track of seconds.\n",
    "    After the loop breaks seconds are converted to minutes to provide an accurate measure of time'''\n",
    "    \n",
    "    k = k/60.0\n",
    "    seconds = 0\n",
    "    \n",
    "    while (start_temp > end_temp):\n",
    "        \n",
    "        Cprime = -k * (start_temp - room_temp)          \n",
    "        start_temp = start_temp + Cprime                  \n",
    "       \n",
    "        seconds += 1\n",
    "\n",
    "        \n",
    "    minutes = seconds / 60.0\n",
    "\n",
    "    print(f\"Minutes: {round(minutes, 2)} Temperature: {round(start_temp, 2)}\")\n",
    " \n",
    "\n",
    "Temp_model(180.0, 70.0, 0.081, 120.0) #float values for higher accuracy"
   ]
  }
 ],
 "metadata": {
  "kernelspec": {
   "display_name": "Python 3 (ipykernel)",
   "language": "python",
   "name": "python3"
  },
  "language_info": {
   "codemirror_mode": {
    "name": "ipython",
    "version": 3
   },
   "file_extension": ".py",
   "mimetype": "text/x-python",
   "name": "python",
   "nbconvert_exporter": "python",
   "pygments_lexer": "ipython3",
   "version": "3.10.8"
  }
 },
 "nbformat": 4,
 "nbformat_minor": 5
}
